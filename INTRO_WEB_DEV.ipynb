{
  "nbformat": 4,
  "nbformat_minor": 0,
  "metadata": {
    "colab": {
      "provenance": []
    },
    "kernelspec": {
      "name": "python3",
      "display_name": "Python 3"
    },
    "language_info": {
      "name": "python"
    }
  },
  "cells": [
    {
      "cell_type": "code",
      "execution_count": null,
      "metadata": {
        "id": "fDibSpt7GCoI"
      },
      "outputs": [],
      "source": []
    },
    {
      "cell_type": "markdown",
      "source": [],
      "metadata": {
        "id": "PqeLbU43JUqE"
      }
    },
    {
      "cell_type": "markdown",
      "source": [
        "# INTRODUCTION TO WEB DEVELOPMENT\n"
      ],
      "metadata": {
        "id": "ourpLHHKG239"
      }
    },
    {
      "cell_type": "markdown",
      "source": [
        "1.Explain the main components of client-server architecture and their functions?\n",
        "     \n",
        "     ->   Client Server architecture is a two components  for client and server.\n",
        "     Client: this is send the request for the server .\n",
        "\n",
        "     Server: and the server is collect to the request and process and and create response to the client .\n",
        "\n",
        "     each request from a client to a server is independent.\n",
        "\n",
        "2.  Discuss the various career paths available after completing a web development course?\n",
        "\n",
        " ->   Front-End Developer: Focuses on user interface and visual effects.\n",
        "\n",
        "      Backend Developer: Manages server side logic, databases, and application intregation.\n",
        "\n",
        "      Full-Stack Developer: Skill in both front-end and back-end development.\n",
        "\n",
        "      Web Designer:Specializes in design and layout of websites.\n",
        "\n",
        "      Web Administrator: Manages web servers and ensures website performance and security.\n",
        "\n",
        "3. Describe the role of a web browser's developer tools in web development?\n",
        "\n",
        " -> Web Browser with Developer Tools\n",
        "   Browsers like chrome and firefox with built-in developer tools.\n",
        "\n",
        "   allow inspection of html/css ,debugging of javascript.\n",
        "\n",
        "   monitor network requests and analyze performance.\n",
        "\n",
        "\n",
        "4. What are the advantages of using a Version Control System like Git in a development project?\n",
        "\n",
        "  -> VCS (Version Control System) LIKE GIT\n",
        "\n",
        "   Tracks changes to files over time.\n",
        "\n",
        "   Enables collaboration among multiple developers.\n",
        "\n",
        "   Provides features like branching, merging,version history.\n",
        "   \n",
        "   Ensure efficent management of changes.\n",
        "\n",
        "\n",
        "5. Compare and contrast a text editor and an IDE, highlighting their key features and uses?\n",
        "  \n",
        "  ->Text Editors and IDE\n",
        "  Text Editor: Simple tool for writing code(example - Notepad+, Subline Text).\n",
        "  IDE: Robust environment with features like debugging , version control,project management(example- Visual Studio Code ,Intellij Idea).\n",
        "\n",
        "  Add-ons for text editors and IDEs enhancing functionality.\n",
        "\n",
        "  Include syntax highlighting ,code snippets ,linters, debuggers.\n",
        "\n",
        "    "
      ],
      "metadata": {
        "id": "6lMGB1HSIDqT"
      }
    },
    {
      "cell_type": "markdown",
      "source": [],
      "metadata": {
        "id": "cecC5pgaJds2"
      }
    }
  ]
}